{
  "nbformat": 4,
  "nbformat_minor": 0,
  "metadata": {
    "colab": {
      "name": "Trabalho1_introducaoacomputacaoneural.ipynb",
      "provenance": [],
      "authorship_tag": "ABX9TyPVHhUJBWkPjqzbx0sWzxKd",
      "include_colab_link": true
    },
    "kernelspec": {
      "name": "python3",
      "display_name": "Python 3"
    },
    "language_info": {
      "name": "python"
    }
  },
  "cells": [
    {
      "cell_type": "markdown",
      "metadata": {
        "id": "view-in-github",
        "colab_type": "text"
      },
      "source": [
        "<a href=\"https://colab.research.google.com/github/julianamycaelle/House_price/blob/main/Trabalho1_introducaoacomputacaoneural.ipynb\" target=\"_parent\"><img src=\"https://colab.research.google.com/assets/colab-badge.svg\" alt=\"Open In Colab\"/></a>"
      ]
    },
    {
      "cell_type": "markdown",
      "metadata": {
        "id": "N-sC6lFayQGn"
      },
      "source": [
        "# UNIVERSIDADE FEDERAL DO MARANHÃO\n",
        "# INTRODUÇÃO À COMPUTAÇÃO NEURAL\n",
        "# **REDES NEURAIS CONVOLUCIONAIS**\n",
        "# ALZENEIDE DUTRA \n",
        "# JULIANA SILVA\n",
        "\n",
        "### REDE NEURAL CONVOLUCIONAL NA PRÁTICA\n",
        "* NESTE TRABALHO A REDE CONVOLUCIONAL IRÁ IDENTIFICAR O NÚMERO ESCRITO A MÃO, SE É ALGUM DOS NÚMEROS ENTRE 0 E 5\n",
        "* Para treino da nossa rede, nós utilizaremos o seguinte data set:\n",
        "http://yann.lecun.com/exdb/mnist/\n"
      ]
    },
    {
      "cell_type": "code",
      "metadata": {
        "id": "YfW1fYJeyU3b"
      },
      "source": [
        "#importação das bibliotecas\n",
        "import tensorflow as tf\n",
        "from tensorflow import keras\n",
        "from keras.models import model_from_json\n",
        "import matplotlib.pyplot as plt\n",
        "from keras.layers import Dense, Flatten, Conv2D, MaxPooling2D\n",
        "import numpy as np\n",
        "import cv2\n",
        "import os"
      ],
      "execution_count": 20,
      "outputs": []
    },
    {
      "cell_type": "markdown",
      "metadata": {
        "id": "2AkMgHlJzScF"
      },
      "source": [
        "* Vamos importar o datast com os números"
      ]
    },
    {
      "cell_type": "code",
      "metadata": {
        "id": "ErJkTUpyyhX-"
      },
      "source": [
        "dataset = keras.datasets.mnist #carrega dataset\n",
        "((imagens_treino,classe_treino),(imagens_teste,classe_teste))=dataset.load_data() #divide os dados em dados de teste e de treino"
      ],
      "execution_count": 21,
      "outputs": []
    },
    {
      "cell_type": "markdown",
      "metadata": {
        "id": "EBRzdFXg0J79"
      },
      "source": [
        "* Mostrando informações a cerca dos dados"
      ]
    },
    {
      "cell_type": "code",
      "metadata": {
        "colab": {
          "base_uri": "https://localhost:8080/"
        },
        "id": "33ms2s1uz7jb",
        "outputId": "d6dd78e9-32c3-47b2-d9d8-3fb3e5f456d7"
      },
      "source": [
        "#mostra informações a cerca do dataset\n",
        "print(\"imagens de treino\", len(imagens_treino))\n",
        "print(\"imagens de treino\", imagens_treino.shape)\n",
        "print(\"imagens de teste\", len(imagens_teste))\n",
        "print(\"classe de teste\", imagens_teste.shape)\n",
        "\n",
        "print(\"min classe treino\", classe_treino.min())\n",
        "print(\"max classe teste\", classe_treino.max())"
      ],
      "execution_count": 22,
      "outputs": [
        {
          "output_type": "stream",
          "name": "stdout",
          "text": [
            "imagens de treino 60000\n",
            "imagens de treino (60000, 28, 28)\n",
            "imagens de teste 10000\n",
            "classe de teste (10000, 28, 28)\n",
            "min classe treino 0\n",
            "max classe teste 9\n"
          ]
        }
      ]
    },
    {
      "cell_type": "code",
      "metadata": {
        "id": "lwZsu9-o0S5P"
      },
      "source": [
        "#identifica os classificadores \n",
        "nome_classificadores = ['0', '1', '2', '3', '4', '5', '6', '7','8','9'] \n",
        "total_classificadores = 10;"
      ],
      "execution_count": 23,
      "outputs": []
    },
    {
      "cell_type": "code",
      "metadata": {
        "colab": {
          "base_uri": "https://localhost:8080/",
          "height": 352
        },
        "id": "7-sxTlqc2H44",
        "outputId": "fb049380-6a69-479f-94c9-171e6a135e9f"
      },
      "source": [
        "#imprimir 10 digitos do dataset\n",
        "fig,axes = plt.subplots(figsize=(10,5))\n",
        "fig.tight_layout()\n",
        "\n",
        "for imagem in range(10):\n",
        "  plt.subplot(2,5,imagem+1)\n",
        "  plt.imshow(imagens_treino[imagem])\n",
        "  plt.title(nome_classificadores[classe_treino[imagem]])"
      ],
      "execution_count": 24,
      "outputs": [
        {
          "output_type": "display_data",
          "data": {
            "image/png": "[encoded data removed]",
            "text/plain": [
              "<Figure size 720x360 with 10 Axes>"
            ]
          },
          "metadata": {
            "needs_background": "light"
          }
        }
      ]
    },
    {
      "cell_type": "code",
      "metadata": {
        "colab": {
          "base_uri": "https://localhost:8080/",
          "height": 282
        },
        "id": "T5iroy8X2YuX",
        "outputId": "bd17af74-02f0-44f6-a67c-b5db79a3cec9"
      },
      "source": [
        "#mostrando a escala de um único digito\n",
        "plt.imshow(imagens_treino[0])\n",
        "plt.colorbar()\n",
        "print(imagens_treino.shape)"
      ],
      "execution_count": 25,
      "outputs": [
        {
          "output_type": "stream",
          "name": "stdout",
          "text": [
            "(60000, 28, 28)\n"
          ]
        },
        {
          "output_type": "display_data",
          "data": {
            "image/png": "[encoded data removed]",
            "text/plain": [
              "<Figure size 432x288 with 2 Axes>"
            ]
          },
          "metadata": {
            "needs_background": "light"
          }
        }
      ]
    },
    {
      "cell_type": "code",
      "metadata": {
        "colab": {
          "base_uri": "https://localhost:8080/"
        },
        "id": "afY8f2mE37wp",
        "outputId": "759965e5-edfb-4840-89c7-3cf873fbddd0"
      },
      "source": [
        "# é necessário fazer um tratamento na imagem antes de utilizar ela como entrada\n",
        "#redefinindo o formato pra 1 vetor\n",
        "imagens_treino = imagens_treino.reshape((imagens_treino.shape[0],28,28,1)) \n",
        "imagens_teste = imagens_teste.reshape((imagens_teste.shape[0],28,28,1)) \n",
        "print(imagens_treino.shape)"
      ],
      "execution_count": 26,
      "outputs": [
        {
          "output_type": "stream",
          "name": "stdout",
          "text": [
            "(60000, 28, 28, 1)\n"
          ]
        }
      ]
    },
    {
      "cell_type": "code",
      "metadata": {
        "id": "gU3cTt9A4XEB",
        "colab": {
          "base_uri": "https://localhost:8080/"
        },
        "outputId": "32b46db9-bdd1-49d0-ae3b-2695fa5acdd4"
      },
      "source": [
        "#normalização\n",
        "imagens_treino = imagens_treino/255\n",
        "#convolução 2D -> 32 Kernels(3,3)  tamanho real do kernel, imput = imagens 28x28 em 1D pra entrada\n",
        "# O model será exportado para este arquivo\n",
        "filename='mnistneuralnet.h5'\n",
        "\n",
        "#com a rede configurada, é necessário criar a rede, \n",
        "#nesta comfiguração, utilizamos a função de perda, que calcula a diferença entre a saida e a entrada \n",
        "#escolhe-se também um otimizador\n",
        "#como metrica que queremos obter é a acurácia.\n",
        "modelo = tf.keras.models.Sequential([keras.layers.Conv2D(32,(3,3),input_shape=(28,28,1), activation=tensorflow.nn.relu),\n",
        "                           keras.layers.MaxPooling2D((2,2)),\n",
        "                           keras.layers.Flatten(),\n",
        "                           keras.layers.Dense(180,activation=tensorflow.nn.relu),\n",
        "                           keras.layers.Dense(63,activation=tensorflow.nn.relu),\n",
        "                           keras.layers.Dropout(0.2),\n",
        "                           keras.layers.Dense(10,activation=tensorflow.nn.softmax)\n",
        "                           ])\n",
        "#compilando o modelo\n",
        "adam = keras.optimizers.Adam(learning_rate=0.8)\n",
        "modelo.compile(optimizer = 'adam',loss = 'sparse_categorical_crossentropy', metrics='accuracy')\n",
        "modelo.summary()"
      ],
      "execution_count": 27,
      "outputs": [
        {
          "output_type": "stream",
          "name": "stdout",
          "text": [
            "Model: \"sequential_1\"\n",
            "_________________________________________________________________\n",
            "Layer (type)                 Output Shape              Param #   \n",
            "=================================================================\n",
            "conv2d_1 (Conv2D)            (None, 26, 26, 32)        320       \n",
            "_________________________________________________________________\n",
            "max_pooling2d_1 (MaxPooling2 (None, 13, 13, 32)        0         \n",
            "_________________________________________________________________\n",
            "flatten_1 (Flatten)          (None, 5408)              0         \n",
            "_________________________________________________________________\n",
            "dense_3 (Dense)              (None, 180)               973620    \n",
            "_________________________________________________________________\n",
            "dense_4 (Dense)              (None, 63)                11403     \n",
            "_________________________________________________________________\n",
            "dropout_1 (Dropout)          (None, 63)                0         \n",
            "_________________________________________________________________\n",
            "dense_5 (Dense)              (None, 10)                640       \n",
            "=================================================================\n",
            "Total params: 985,983\n",
            "Trainable params: 985,983\n",
            "Non-trainable params: 0\n",
            "_________________________________________________________________\n"
          ]
        }
      ]
    },
    {
      "cell_type": "code",
      "metadata": {
        "colab": {
          "base_uri": "https://localhost:8080/"
        },
        "id": "y56uybDp5QOf",
        "outputId": "68974b06-9713-44f8-93d0-f42f1c1368f1"
      },
      "source": [
        "hist=modelo.fit(imagens_treino,classe_treino,epochs=5,validation_data=(imagens_teste, classe_teste), batch_size=200)"
      ],
      "execution_count": 28,
      "outputs": [
        {
          "output_type": "stream",
          "name": "stdout",
          "text": [
            "Epoch 1/5\n",
            "300/300 [==============================] - 25s 83ms/step - loss: 0.3032 - accuracy: 0.9096 - val_loss: 19.5723 - val_accuracy: 0.9562\n",
            "Epoch 2/5\n",
            "300/300 [==============================] - 25s 83ms/step - loss: 0.0934 - accuracy: 0.9720 - val_loss: 13.6641 - val_accuracy: 0.9710\n",
            "Epoch 3/5\n",
            "300/300 [==============================] - 25s 82ms/step - loss: 0.0589 - accuracy: 0.9826 - val_loss: 22.5901 - val_accuracy: 0.9594\n",
            "Epoch 4/5\n",
            "300/300 [==============================] - 25s 83ms/step - loss: 0.0428 - accuracy: 0.9873 - val_loss: 16.1331 - val_accuracy: 0.9689\n",
            "Epoch 5/5\n",
            "300/300 [==============================] - 25s 83ms/step - loss: 0.0344 - accuracy: 0.9896 - val_loss: 14.9883 - val_accuracy: 0.9729\n"
          ]
        }
      ]
    },
    {
      "cell_type": "code",
      "metadata": {
        "colab": {
          "base_uri": "https://localhost:8080/"
        },
        "id": "PfqL_FhdEjqb",
        "outputId": "a2a92531-9eb3-464a-d438-21121051dfc7"
      },
      "source": [
        "scores = modelo.evaluate(imagens_teste, classe_teste, verbose=0)\n",
        "print(\"\\nacc: %.2f%%\" % (scores[1]*100))"
      ],
      "execution_count": 29,
      "outputs": [
        {
          "output_type": "stream",
          "name": "stdout",
          "text": [
            "\n",
            "acc: 97.29%\n"
          ]
        }
      ]
    },
    {
      "cell_type": "code",
      "metadata": {
        "colab": {
          "base_uri": "https://localhost:8080/",
          "height": 314
        },
        "id": "fWeAuA3V8GJh",
        "outputId": "df9dccb1-12ec-4fb6-e823-ef26c103dfb0"
      },
      "source": [
        "plt.plot(hist.history['accuracy'])\n",
        "plt.plot(hist.history['val_accuracy'])\n",
        "plt.title('Acurácia por épocas')\n",
        "plt.ylabel('Acurácia')\n",
        "plt.xlabel('Épocas')\n",
        "plt.legend(['Treino','Validação'])"
      ],
      "execution_count": 30,
      "outputs": [
        {
          "output_type": "execute_result",
          "data": {
            "text/plain": [
              "<matplotlib.legend.Legend at 0x7f7a15e5e3d0>"
            ]
          },
          "metadata": {},
          "execution_count": 30
        },
        {
          "output_type": "display_data",
          "data": {
            "image/png": "[encoded data removed]",
            "text/plain": [
              "<Figure size 432x288 with 1 Axes>"
            ]
          },
          "metadata": {
            "needs_background": "light"
          }
        }
      ]
    },
    {
      "cell_type": "code",
      "metadata": {
        "colab": {
          "base_uri": "https://localhost:8080/"
        },
        "id": "4Yinwl-59hGH",
        "outputId": "088584df-030c-49ed-94cc-3e3fc89cb561"
      },
      "source": [
        "perda_teste, acuracia_teste = modelo.evaluate(imagens_teste,classe_teste)\n",
        "print(perda_teste)\n",
        "print(acuracia_teste)\n",
        "teste = modelo.predict(imagens_teste/255)"
      ],
      "execution_count": 31,
      "outputs": [
        {
          "output_type": "stream",
          "name": "stdout",
          "text": [
            "313/313 [==============================] - 2s 7ms/step - loss: 14.9883 - accuracy: 0.9729\n",
            "14.988327026367188\n",
            "0.9728999733924866\n"
          ]
        }
      ]
    },
    {
      "cell_type": "code",
      "metadata": {
        "id": "Ujz1uEd60z7Z"
      },
      "source": [
        "filename='mnistneuralnet.h5'\n",
        "modelo.save_weights(filename)\n",
        "modelo.load_weights('./{}'.format(filename) )"
      ],
      "execution_count": 32,
      "outputs": []
    },
    {
      "cell_type": "code",
      "metadata": {
        "colab": {
          "base_uri": "https://localhost:8080/",
          "height": 304
        },
        "id": "I3iVtWLU_cp5",
        "outputId": "e414d9df-266c-491b-9aa2-8032979e4c89"
      },
      "source": [
        "import requests\n",
        "from PIL import Image\n",
        "url = 'https://www.classes.cs.uchicago.edu/archive/2015/spring/12300-1/digit.png'\n",
        "response = requests.get(url, stream=True)\n",
        "print(response)\n",
        "img = Image.open(response.raw)\n",
        "plt.imshow(img)\n"
      ],
      "execution_count": 33,
      "outputs": [
        {
          "output_type": "stream",
          "name": "stdout",
          "text": [
            "<Response [200]>\n"
          ]
        },
        {
          "output_type": "execute_result",
          "data": {
            "text/plain": [
              "<matplotlib.image.AxesImage at 0x7f7a15da6490>"
            ]
          },
          "metadata": {},
          "execution_count": 33
        },
        {
          "output_type": "display_data",
          "data": {
            "image/png": "[encoded data removed]",
            "text/plain": [
              "<Figure size 432x288 with 1 Axes>"
            ]
          },
          "metadata": {
            "needs_background": "light"
          }
        }
      ]
    },
    {
      "cell_type": "code",
      "metadata": {
        "id": "-EanZrqiFI6z",
        "colab": {
          "base_uri": "https://localhost:8080/",
          "height": 300
        },
        "outputId": "1ec86800-76fd-4d6c-d415-79529a1e9c05"
      },
      "source": [
        "import cv2 \n",
        "\n",
        "img_array = np.asarray(img)\n",
        "\n",
        "resized = cv2.resize(img_array, (28,28))\n",
        "# Caso a imagem orginal seja colorida usar a seguinte conversão para tons de cinza \n",
        "#gray_scale = cv2.cvtColor(resized, cv2.COLOR_BGR2GRAY)\n",
        "gray_scale = resized \n",
        "image = cv2.bitwise_not(gray_scale)\n",
        "print(gray_scale.shape)\n",
        "plt.imshow(image,cmap=plt.get_cmap(\"gray\") )"
      ],
      "execution_count": 34,
      "outputs": [
        {
          "output_type": "stream",
          "name": "stdout",
          "text": [
            "(28, 28)\n"
          ]
        },
        {
          "output_type": "execute_result",
          "data": {
            "text/plain": [
              "<matplotlib.image.AxesImage at 0x7f7a15dc9a50>"
            ]
          },
          "metadata": {},
          "execution_count": 34
        },
        {
          "output_type": "display_data",
          "data": {
            "image/png": "[encoded data removed]",
            "text/plain": [
              "<Figure size 432x288 with 1 Axes>"
            ]
          },
          "metadata": {
            "needs_background": "light"
          }
        }
      ]
    },
    {
      "cell_type": "code",
      "metadata": {
        "id": "4S0O4hnhWjDl"
      },
      "source": [
        "image = image/255\n",
        "image = image.reshape(1,28,28,1)"
      ],
      "execution_count": 35,
      "outputs": []
    },
    {
      "cell_type": "code",
      "metadata": {
        "colab": {
          "base_uri": "https://localhost:8080/"
        },
        "id": "XClubzupWnS5",
        "outputId": "9cf6c118-8f29-4d72-b9aa-3eb527ac5cba"
      },
      "source": [
        "predict_x=modelo.predict(image) \n",
        "classes_x=np.argmax(predict_x,axis=1)\n",
        "print(classes_x)"
      ],
      "execution_count": 38,
      "outputs": [
        {
          "output_type": "stream",
          "name": "stdout",
          "text": [
            "[4]\n"
          ]
        }
      ]
    },
    {
      "cell_type": "code",
      "metadata": {
        "id": "Zcc3Q3E_Wpk0"
      },
      "source": [
        ""
      ],
      "execution_count": null,
      "outputs": []
    }
  ]
}